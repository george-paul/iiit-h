{
 "cells": [
  {
   "cell_type": "markdown",
   "id": "c3622bff",
   "metadata": {},
   "source": [
    "# Assignment 3 -  Zipf's Law and Precision/Recall  (10/10/2023)"
   ]
  },
  {
   "cell_type": "markdown",
   "id": "d366cb29",
   "metadata": {},
   "source": [
    "## 1 Goal"
   ]
  },
  {
   "cell_type": "markdown",
   "id": "eb8fdc87",
   "metadata": {},
   "source": [
    "### 1.1 Zipf's Law"
   ]
  },
  {
   "cell_type": "markdown",
   "id": "fbf3e71c",
   "metadata": {},
   "source": [
    "<font size=\"3\">\n",
    "\n",
    "In the first part of this exercise we study the statistics of word occurrences in texts. An observation made by George Kingsley Zipf (1902-1950) states that, in general:\n",
    "<ul>\n",
    "    <li> A small number of words occur very frequently </li>\n",
    "    <li> Many words occur rarely </li>\n",
    "</ul>\n",
    "More formally, the above Zipf's law states that the <i>probability</i> of encountering the r-th most common word is inversely proportional to its rank $r$, that is,\n",
    "    \n",
    "\\begin{equation}\n",
    "P(r) \\approx 0.1/r.\n",
    "\\end{equation}\n",
    "    \n",
    "For example, according to the above equation, the most frequently occurred word $w_1$ with $r=1$ has a probability of $P(1)\\approx0.1$, meaning that roughly one of every ten words is $w_1$. The second most frequent word has a probability\n",
    "$P(2)\\approx0.05$, meaning that one of every twenty word is $w_2$, and so on.\n",
    "    \n",
    "</font>"
   ]
  },
  {
   "cell_type": "markdown",
   "id": "02fb5073",
   "metadata": {},
   "source": [
    "### Terminologies"
   ]
  },
  {
   "cell_type": "markdown",
   "id": "56e1e677",
   "metadata": {},
   "source": [
    "<font size=\"3\">\n",
    "    <ul>\n",
    "        <li><b>Frequency (f)</b>: number of occurrences of a word in a text</li>\n",
    "        <li><b>Corpus</b>: a collection of documents of a particular kind</li>\n",
    "        <li><b>Rank of a word (r)</b>: a word's ordinal number in a list sorted by decreasing frequency (f)</li>\n",
    "        <li><b>Vocabulary</b>: set of all unique words in a corpus</li>\n",
    "    </ul>\n",
    "</font>"
   ]
  },
  {
   "cell_type": "markdown",
   "id": "0bed0c2f",
   "metadata": {},
   "source": [
    "### 1.2 Search engine evaluation"
   ]
  },
  {
   "cell_type": "markdown",
   "id": "a4d649ab",
   "metadata": {},
   "source": [
    "<font size=\"3\">\n",
    "\n",
    "In previous assignments, we were ranking the documents $d_j$ according to their relevance $r_j$ w.r.t a query.\n",
    "The aim here is to build the evaluation framework for assessing the quality of the retrieval.\n",
    "\n",
    "For this you need a ranked list (permutation of the index list of the documents $\\{1,...,N\\}$) and a relevance list  (list of $N$ binary values indicating if document $d_j$ is relevant ($r_j=1$) or not ($r_j=0$)).\n",
    "\n",
    "Precision will assess the density of relevant documents when exploring the ranked list downwards.\n",
    "Recall indicates the proportion of relevant documents retrieved so far (among all relevant documents).\n",
    "\n",
    "    \n",
    "</font>"
   ]
  },
  {
   "cell_type": "markdown",
   "id": "dbbd5adc",
   "metadata": {},
   "source": [
    "## 2. List of tasks"
   ]
  },
  {
   "cell_type": "markdown",
   "id": "cd75d8cd",
   "metadata": {},
   "source": [
    "### 2.1 Evaluate your search engine"
   ]
  },
  {
   "cell_type": "markdown",
   "id": "b744581c",
   "metadata": {},
   "source": [
    "<font size=\"3\">\n",
    "Your task here is to build functions computing and plotting the P-R curves in several settings.\n",
    "You may use:\n",
    "    \n",
    "<ul>\n",
    "    <li>$N=10$, the ranked list is $\\{2,4,5,3,6,1,7,8,0,9\\}$ and the relevant list is $\\{1,1,1,1,0,1,0,0,0,0\\}$ (you may also make up your own data - including perfect ranking)</li>\n",
    "    <li> Randomly or manualy, choose $N$, generate a binary relevance list, experiment with several permutations.</li>\n",
    "    <li>Based on <b>NASA</b> data, generate ranking for queries <b>\"engine\"</b> and <b>\"analysis\"</b>. For the relevance set use the command <code>grep -i <query> *.key</code> to select the relevant documents.</li>\n",
    "</ul>\n",
    "    \n",
    "<ol>\n",
    "    <li>Create a function taking as input the ranked and relevance lists, level $n$ (for an example recall@10, recall@15 etc.) and providing you with $(R_n,p_n)$.</li> \n",
    "    <li>Given 2 queries (any data above), plot the P-R curves.</li>\n",
    "    <li>Compute nDCG on the above (see Learning to Rank). Discuss nDCG against P-R.</li>\n",
    "    <li>Compute the mAP for the above queries.</li>\n",
    "    <li>Get more queries as above and compute micro and macro F1 scores.</li>\n",
    "    <li>Create functions providing you with the Spearman correlation and Kendall Tau between the above lists.</li>\n",
    "</ol>\n",
    "    \n",
    "</font>"
   ]
  },
  {
   "cell_type": "markdown",
   "id": "cfe0eeea",
   "metadata": {},
   "source": [
    "### 2.2 Verify the Zipf's Law"
   ]
  },
  {
   "cell_type": "markdown",
   "id": "88c6ca72",
   "metadata": {},
   "source": [
    "<font size=\"3\">\n",
    "<ol>\n",
    "    <li>Choose one or more French books as your corpus from the <a href=\"http://www.gutenberg.org/\" target=\"_blank\">project Guttenberg web site</a>, for example  \n",
    "        <ul> \n",
    "            <li><a href=\"http://www.gutenberg.org/ebooks/5097\" target=\"_blank\">20000 Lieues Sous Les Mers</a></li>\n",
    "            <li><a href=\"http://www.gutenberg.org/ebooks/13951\" target=\"_blank\">Les Trois Mousquetaires</a></li>\n",
    "            <li><a href=\"http://www.gutenberg.org/ebooks/5423\" target=\"_blank\">L'homme Qui Rit</a></li>\n",
    "            <li><a href=\"http://www.gutenberg.org/ebooks/14286\" target=\"_blank\">L'Odyssée</a></li>\n",
    "            <li><a href=\"http://www.gutenberg.org/ebooks/9945\" target=\"_blank\">Histoire de la Révolution française</a></li>\n",
    "        </ul> <br>\n",
    "    <li>Verify the Zipf's Law. For this you need to:\n",
    "        <ul> \n",
    "            <li>Identify all unique words in your corpus. One way to do this is to tokenize your corpus by splitting based on white space characters. If a token match a predefined regular expression, then memorize it as a valid word. This is for filtering non-word tokens like <code>****</code>, <code>---</code>, etc.</li>\n",
    "            <li>Count the frequencies of all words in your corpus and arranges them in a list according to their rank. </li>\n",
    "            <li>Transform the frequencies into probabilities by normalizing each frequency using the total number of words in your corpus. On the same diagram, plot the obtained probabilities against their ranks, the theoretical relationship according to the formula of Zipf's law and a linear regression (least-squares fit) line. Please report  the values of R-squared, p-value and attach a residual plot for the linear regression. Justify whether linear regression models can be used to explore the dependence between words' probabilities and their ranks. Comment on how the approximation fits the theoretical formula.</li>\n",
    "        </ul>\n",
    "    </li> <br>\n",
    "    <li>From the data you obtained, find 10 examples of extremely frequent, very rare, and averagely frequent words to fill out the following table\n",
    "        <table>\n",
    "            <tr>\n",
    "                <th> </th>\n",
    "                <th>Very Frequent Words</th>\n",
    "                <th>Averagely Frequent Words</th>\n",
    "                <th> Very Rare Words</th>\n",
    "            </tr>\n",
    "            <tr>\n",
    "                <td>1</td> \n",
    "                <td></td> \n",
    "                <td></td>\n",
    "                <td></td>\n",
    "            </tr>\n",
    "            <tr>\n",
    "                <td>2</td> \n",
    "                <td></td> \n",
    "                <td></td>\n",
    "                <td></td>\n",
    "            </tr>\n",
    "            <tr>\n",
    "                <td>...</td> \n",
    "                <td></td> \n",
    "                <td></td>\n",
    "                <td></td>\n",
    "            <tr>\n",
    "                <td>10</td> \n",
    "                <td></td> \n",
    "                <td></td>\n",
    "                <td></td>\n",
    "            </tr>\n",
    "        </table>\n",
    "Intuitively, which of the above three word categories could be more useful in information retrieval? Which of these categories is likely to have large tf-idf values? Why? </li>\n",
    "</ol>\n",
    "</font>"
   ]
  },
  {
   "cell_type": "markdown",
   "id": "57890888",
   "metadata": {},
   "source": [
    "##  3. Assessment"
   ]
  },
  {
   "cell_type": "markdown",
   "id": "6443effb",
   "metadata": {},
   "source": [
    "<font size=\"3\">\n",
    "\n",
    "The assessment is based on your code and report. Your PDF report should include all experimental results, your answers to all questions, and your analysis and comments of the experimental results. Please try to detail the report by giving examples and conclusions. \n",
    "\n",
    "</font>"
   ]
  },
  {
   "cell_type": "markdown",
   "id": "1fd207b4",
   "metadata": {},
   "source": [
    "<font size=\"3\">\n",
    "Compress your code - written either in python scripts, or Jupyter Notebook(s), and the Report.pdf file, into &lt;RollNumber&gt;_Assignment3.zip, which you should submit on Moodle.<br>\n",
    "\n",
    "An in person evaluation will be conducted, in which you are required to walk us through your code and report.<br>\n",
    "\n",
    "Please note that the deadline is **22nd October 2023**, and **will not be extended.** Use moodle for all queries.<br>\n",
    "    \n",
    "**Total marks** - 25 marks. <br>\n",
    "- **Search Engine evaluation** (9 marks)<br>\n",
    "- **Zipf's law verification** (9 marks)<br>\n",
    "- **Report and explanations** (7 marks)"
   ]
  }
 ],
 "metadata": {
  "kernelspec": {
   "display_name": "anaconda-2022.05-py39",
   "language": "python",
   "name": "conda-env-anaconda-2022.05-py39-py"
  },
  "language_info": {
   "codemirror_mode": {
    "name": "ipython",
    "version": 3
   },
   "file_extension": ".py",
   "mimetype": "text/x-python",
   "name": "python",
   "nbconvert_exporter": "python",
   "pygments_lexer": "ipython3",
   "version": "3.9.12"
  }
 },
 "nbformat": 4,
 "nbformat_minor": 5
}
