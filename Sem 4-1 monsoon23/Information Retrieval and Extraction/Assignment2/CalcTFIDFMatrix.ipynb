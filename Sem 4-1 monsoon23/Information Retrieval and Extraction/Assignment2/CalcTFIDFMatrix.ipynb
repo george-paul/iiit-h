{
 "cells": [
  {
   "cell_type": "code",
   "execution_count": null,
   "metadata": {},
   "outputs": [],
   "source": [
    "# import numpy as np\n",
    "# import pandas as pd\n",
    "# from os import path\n",
    "# from PIL import Image\n",
    "# from wordcloud import WordCloud, STOPWORDS, ImageColorGenerator\n",
    "import os\n",
    "import re\n",
    "import math\n",
    "\n",
    "import nltk\n",
    "# from nltk.tokenize.toktok import ToktokTokenizer\n",
    "\n",
    "# import matplotlib.pyplot as plt\n",
    "%matplotlib inline"
   ]
  },
  {
   "cell_type": "code",
   "execution_count": null,
   "metadata": {},
   "outputs": [],
   "source": [
    "corpus_path = \"./nasa/\"\n",
    "\n",
    "filenames = os.listdir(corpus_path)\n",
    "\n",
    "files = [os.path.join(corpus_path, filepath) for filepath in filenames]\n",
    "\n",
    "data = {}\n",
    "\n",
    "# get data\n",
    "for i, f in enumerate(files, 0):\n",
    "\twith open(f) as fo:\n",
    "\t\tcurr = fo.read()\n",
    "\t\tdata[filenames[i]] = (curr)"
   ]
  },
  {
   "cell_type": "code",
   "execution_count": null,
   "metadata": {},
   "outputs": [],
   "source": [
    "# remove spec chars and lower case it\n",
    "data = {doc:re.sub(r'[^\\w\\s\\n]', ' ', data[doc]).lower() for doc in data}\n",
    "data"
   ]
  },
  {
   "cell_type": "code",
   "execution_count": null,
   "metadata": {},
   "outputs": [],
   "source": [
    "nltk.download('stopwords')\n",
    "stop_words = set(nltk.corpus.stopwords.words('english'))\n",
    "\n",
    "\n",
    "# tokenise\n",
    "data = {doc:[word for word in nltk.word_tokenize(data[doc]) if word not in stop_words] for doc in data}\n",
    "data"
   ]
  },
  {
   "cell_type": "code",
   "execution_count": null,
   "metadata": {},
   "outputs": [],
   "source": [
    "# stem\n",
    "stems_list = {}\n",
    "stemmer = nltk.PorterStemmer()\n",
    "for doc in data:\n",
    "\tstems_list[doc] = [stemmer.stem(word) for word in data[doc]] # type: ignore\n",
    "stems_list\n"
   ]
  },
  {
   "cell_type": "code",
   "execution_count": null,
   "metadata": {},
   "outputs": [],
   "source": [
    "vocab = {}\n",
    "\n",
    "for doc in stems_list:\n",
    "\tvocab[doc] = {}\n",
    "\tfor word in stems_list[doc]:\n",
    "\t\tif word in vocab[doc]:\n",
    "\t\t\tvocab[doc][word] += 1\n",
    "\t\telse:\n",
    "\t\t\tvocab[doc][word] = 1\n",
    "\n",
    "vocab"
   ]
  },
  {
   "cell_type": "code",
   "execution_count": null,
   "metadata": {},
   "outputs": [],
   "source": [
    "tf_across_docs = {}\n",
    "\n",
    "for doc in vocab:\n",
    "\tfor word in vocab[doc]:\n",
    "\t\tif word in tf_across_docs:\n",
    "\t\t\ttf_across_docs[word] +=1\n",
    "\t\telse:\n",
    "\t\t\ttf_across_docs[word] = 1\n",
    "\n",
    "tf_across_docs"
   ]
  },
  {
   "cell_type": "code",
   "execution_count": null,
   "metadata": {},
   "outputs": [],
   "source": [
    "# not doc specific\n",
    "idf = {}\n",
    "\n",
    "for doc in vocab:\n",
    "\tfor word in vocab[doc]:\n",
    "\t\tnoDocsWithWord = 0\n",
    "\t\tfor doc in vocab:\n",
    "\t\t\tif word in vocab[doc]:\n",
    "\t\t\t\tnoDocsWithWord += 1\n",
    "\t\tidf[word] = math.log(len(vocab) / noDocsWithWord)\n",
    "\n",
    "idf"
   ]
  },
  {
   "cell_type": "code",
   "execution_count": null,
   "metadata": {},
   "outputs": [],
   "source": [
    "tfidf = {}\n",
    "\n",
    "for doc in vocab:\n",
    "\ttfidf[doc] = {}\n",
    "\tfor word in vocab[doc]:\n",
    "\t\ttfidf[doc][word] = vocab[doc][word] * idf[word]\n",
    "\n",
    "tfidf"
   ]
  }
 ],
 "metadata": {
  "kernelspec": {
   "display_name": "Python 3",
   "language": "python",
   "name": "python3"
  },
  "language_info": {
   "codemirror_mode": {
    "name": "ipython",
    "version": 3
   },
   "file_extension": ".py",
   "mimetype": "text/x-python",
   "name": "python",
   "nbconvert_exporter": "python",
   "pygments_lexer": "ipython3",
   "version": "3.10.0"
  },
  "orig_nbformat": 4
 },
 "nbformat": 4,
 "nbformat_minor": 2
}
