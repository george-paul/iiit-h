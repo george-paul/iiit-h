{
 "cells": [
  {
   "cell_type": "code",
   "execution_count": null,
   "metadata": {},
   "outputs": [],
   "source": [
    "import math"
   ]
  },
  {
   "cell_type": "code",
   "execution_count": null,
   "metadata": {},
   "outputs": [],
   "source": [
    "def prob_model(query, documents, R, top_p_stems):\n",
    "    # Initialize probabilities\n",
    "    PofR = 0.5\n",
    "    PofNotR = 0.5\n",
    "    Poft_R = {}\n",
    "    Poft_NotR = {}\n",
    "    for term in query:\n",
    "        Poft_R[term] = 0.5\n",
    "        Poft_NotR[term] = documents.count(term) / len(documents)\n",
    "\n",
    "\n",
    "    \n",
    "    \n",
    "    # Update probabilities based on relevant documents\n",
    "    for doc in R:\n",
    "        for term in query:\n",
    "            if term in doc:\n",
    "                Poft_R[term] += 1 / len(R)\n",
    "            else:\n",
    "                Poft_NotR[term] += 1 / (len(documents) - len(R))\n",
    "        PofR += 1 / len(R)\n",
    "        PofNotR += 1 / (len(documents) - len(R))\n",
    "    \n",
    "    # Normalize probabilities\n",
    "    PofR /= len(documents)\n",
    "    PofNotR /= len(documents)\n",
    "    for term in query:\n",
    "        Poft_R[term] /= len(R)\n",
    "        Poft_NotR[term] /= (len(documents) - len(R))\n",
    "    \n",
    "    # Calculate scores\n",
    "    scores = []\n",
    "    for i, doc in enumerate(documents):\n",
    "        score = 0\n",
    "        for term in query:\n",
    "            if term in top_p_stems[i]:\n",
    "                w_iq = 1\n",
    "            else:\n",
    "                w_iq = 0\n",
    "            if term in doc:\n",
    "                w_ij = doc.count(term)\n",
    "            else:\n",
    "                w_ij = 0\n",
    "            score += w_iq * w_ij * (math.log(Poft_R[term] / (1 - Poft_R[term])) + math.log((1 - Poft_NotR[term]) / Poft_NotR[term]))\n",
    "        scores.append((i, score))\n",
    "    ranked_docs = [doc for doc, score in sorted(scores, key=lambda x: x[1], reverse=True)]\n",
    "    return ranked_docs"
   ]
  }
 ],
 "metadata": {
  "language_info": {
   "name": "python"
  },
  "orig_nbformat": 4
 },
 "nbformat": 4,
 "nbformat_minor": 2
}
