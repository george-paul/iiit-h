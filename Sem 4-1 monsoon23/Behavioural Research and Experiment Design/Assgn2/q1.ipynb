{
 "cells": [
  {
   "cell_type": "code",
   "execution_count": 1,
   "metadata": {},
   "outputs": [],
   "source": [
    "import pandas as pd\n",
    "import numpy as np"
   ]
  },
  {
   "cell_type": "code",
   "execution_count": 3,
   "metadata": {},
   "outputs": [
    {
     "data": {
      "text/plain": [
       "0     3\n",
       "1     5\n",
       "2     3\n",
       "3     1\n",
       "4     4\n",
       "5     5\n",
       "6     5\n",
       "7     1\n",
       "8     4\n",
       "9     1\n",
       "10    2\n",
       "11    1\n",
       "12    2\n",
       "13    3\n",
       "14    1\n",
       "15    2\n",
       "16    3\n",
       "17    1\n",
       "18    1\n",
       "19    2\n",
       "20    3\n",
       "21    3\n",
       "22    3\n",
       "23    2\n",
       "24    3\n",
       "25    2\n",
       "26    2\n",
       "27    5\n",
       "28    4\n",
       "29    1\n",
       "30    4\n",
       "31    3\n",
       "32    2\n",
       "33    5\n",
       "34    1\n",
       "35    1\n",
       "36    5\n",
       "37    2\n",
       "38    1\n",
       "39    4\n",
       "40    1\n",
       "41    3\n",
       "42    2\n",
       "43    2\n",
       "44    1\n",
       "45    5\n",
       "46    5\n",
       "47    2\n",
       "48    2\n",
       "49    5\n",
       "Name: Rater_C_Score, dtype: int64"
      ]
     },
     "execution_count": 3,
     "metadata": {},
     "output_type": "execute_result"
    }
   ],
   "source": [
    "file_path = \"./dataset1.csv\" \n",
    "df = pd.read_csv(file_path)\n",
    "\n",
    "ratings_a = df['Rater_A_Score']\n",
    "ratings_b = df['Rater_B_Score']\n",
    "ratings_c = df['Rater_C_Score']\n",
    "\n",
    "# ratings_a\n",
    "# ratings_b\n",
    "ratings_c"
   ]
  },
  {
   "cell_type": "code",
   "execution_count": 4,
   "metadata": {},
   "outputs": [
    {
     "name": "stdout",
     "output_type": "stream",
     "text": [
      "Pearson Correlation Coefficient (Rater A vs Rater B): 0.87\n",
      "Pearson Correlation Coefficient (Rater A vs Rater C): 0.08\n",
      "Pearson Correlation Coefficient (Rater B vs Rater C): 0.12\n"
     ]
    }
   ],
   "source": [
    "correlation_ab = np.corrcoef(ratings_a, ratings_b)[0, 1]\n",
    "correlation_ac = np.corrcoef(ratings_a, ratings_c)[0, 1]\n",
    "correlation_bc = np.corrcoef(ratings_b, ratings_c)[0, 1]\n",
    "\n",
    "print(f\"Pearson Correlation Coefficient (Rater A vs Rater B): {correlation_ab:.2f}\")\n",
    "print(f\"Pearson Correlation Coefficient (Rater A vs Rater C): {correlation_ac:.2f}\")\n",
    "print(f\"Pearson Correlation Coefficient (Rater B vs Rater C): {correlation_bc:.2f}\")"
   ]
  }
 ],
 "metadata": {
  "kernelspec": {
   "display_name": "Python 3",
   "language": "python",
   "name": "python3"
  },
  "language_info": {
   "codemirror_mode": {
    "name": "ipython",
    "version": 3
   },
   "file_extension": ".py",
   "mimetype": "text/x-python",
   "name": "python",
   "nbconvert_exporter": "python",
   "pygments_lexer": "ipython3",
   "version": "3.10.0"
  },
  "orig_nbformat": 4
 },
 "nbformat": 4,
 "nbformat_minor": 2
}
