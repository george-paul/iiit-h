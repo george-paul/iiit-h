{
 "cells": [
  {
   "cell_type": "code",
   "execution_count": 24,
   "metadata": {},
   "outputs": [],
   "source": [
    "import pandas as pd"
   ]
  },
  {
   "cell_type": "code",
   "execution_count": 25,
   "metadata": {},
   "outputs": [],
   "source": [
    "data = pd.read_csv('./IRI_data.csv')"
   ]
  },
  {
   "cell_type": "code",
   "execution_count": 26,
   "metadata": {},
   "outputs": [],
   "source": [
    "fantasy_columns = [\n",
    "    'Q1_IRI_Fantasy_scale', 'Q2__IRI_Fantasy_scale', 'Q3__IRI_Fantasy_scale',\n",
    "    'Q4__IRI_Fantasy_scale', 'Q5__IRI_Fantasy_scale', 'Q6__IRI_Fantasy_scale',\n",
    "    'Q7__IRI_Fantasy_scale'\n",
    "]\n",
    "\n",
    "empathic_concern_columns = [\n",
    "    'Q1_IRI_empathic_concern', 'Q2__IRI_empathic_concern', 'Q3__IRI_empathic_concern',\n",
    "    'Q4__IRI_empathic_concern', 'Q5__empathic_concern', 'Q6__IRI_empathic_concern',\n",
    "    'Q7__IRI_empathic_concern'\n",
    "]\n",
    "\n",
    "perspective_taking_columns = [\n",
    "    'Q1_IRI_Perspective_Taking', 'Q2__IRI_Perspective_Taking', 'Q3__IRI_Perspective_Taking',\n",
    "    'Q4__IRI_Perspective_Taking', 'Q5__IRI_Perspective_Taking', 'Q6__IRI_Perspective_Taking',\n",
    "    'Q7__IRI_Perspective_Taking'\n",
    "]\n",
    "\n",
    "personal_distress_columns = [\n",
    "    'Q1_IRI_Personal_Distress', 'Q2__IRI_Personal_Distress', 'Q3__IRI_Personal_Distress',\n",
    "    'Q4__IRI_Personal_Distress', 'Q5__IRI_Personal_Distress', 'Q6__IRI_Personal_Distress',\n",
    "    'Q7__IRI_Personal_Distress'\n",
    "]"
   ]
  },
  {
   "cell_type": "code",
   "execution_count": 27,
   "metadata": {},
   "outputs": [],
   "source": [
    "def get_avgcovariance(matrix):\n",
    "    total = 0\n",
    "    total_no = 0\n",
    "    for i in range(matrix.shape[0]):\n",
    "        for j in range(i+1, matrix.shape[1]):\n",
    "            total += matrix.iloc[i][j]\n",
    "            total_no += 1\n",
    "    return (total / total_no)"
   ]
  },
  {
   "cell_type": "code",
   "execution_count": 28,
   "metadata": {},
   "outputs": [],
   "source": [
    "def cronbach_alpha(columns):\n",
    "    alphas = []\n",
    "    for i in range(-1, len(columns)):\n",
    "        removed_cols = columns\n",
    "        if i != -1:\n",
    "            removed_cols = columns[0:i] + columns[i+1:]\n",
    "        item_responses = data[removed_cols]\n",
    "        num_items = len(removed_cols)\n",
    "        item_variances = item_responses.var()\n",
    "        total_variance = item_variances.sum()\n",
    "        avg_variance = total_variance / num_items\n",
    "        cov_matrix = item_responses.cov()\n",
    "        avg_covariance = get_avgcovariance(cov_matrix)\n",
    "        \n",
    "        # alpha = (num_items / (num_items - 1)) * (1 - (total_variance - sum(item_variances)) / total_variance)\n",
    "        alpha = (num_items * avg_covariance) / (avg_variance + ((num_items-1) * avg_covariance))\n",
    "        alphas.append(alpha)\n",
    "    return alphas"
   ]
  },
  {
   "cell_type": "code",
   "execution_count": 29,
   "metadata": {},
   "outputs": [
    {
     "name": "stdout",
     "output_type": "stream",
     "text": [
      "Cronbach Alpha for Fantasy Scale: \n",
      "[0.7655482497115723, 0.7632391963815768, 0.719877760464404, 0.7833891518412401, 0.766674489762346, 0.702146830352075, 0.6962434333429458, 0.7071679744341195]\n",
      "Cronbach Alpha for Empathic Concern: \n",
      "[0.8102508984674047, 0.7737892223738062, 0.7938263359372999, 0.7904985286191117, 0.7833905797569531, 0.7952626583584369, 0.7796404127010712, 0.7808707381251071]\n",
      "Cronbach Alpha for Perspective Taking: \n",
      "[0.7385086569772058, 0.7499999999999999, 0.5779923469298444, 0.5779923469298444, 0.9474137649151189, 0.5779923469298444, 0.5779923469298444, 0.5779923469298444]\n",
      "Cronbach Alpha for Personal Distress: \n",
      "[0.7705650861956915, 0.7211928460674537, 0.7467412484106818, 0.7868250954428053, 0.7266001435259544, 0.7620582745245836, 0.7014433618916291, 0.7378597699183166]\n"
     ]
    }
   ],
   "source": [
    "fantasy_alpha = cronbach_alpha(fantasy_columns)\n",
    "empathic_concern_alpha = cronbach_alpha(empathic_concern_columns)\n",
    "perspective_taking_alpha = cronbach_alpha(perspective_taking_columns)\n",
    "personal_distress_alpha = cronbach_alpha(personal_distress_columns)\n",
    "\n",
    "print(f'Cronbach Alpha for Fantasy Scale: \\n{fantasy_alpha}')\n",
    "print(f'Cronbach Alpha for Empathic Concern: \\n{empathic_concern_alpha}')\n",
    "print(f'Cronbach Alpha for Perspective Taking: \\n{perspective_taking_alpha}')\n",
    "print(f'Cronbach Alpha for Personal Distress: \\n{personal_distress_alpha}')"
   ]
  }
 ],
 "metadata": {
  "kernelspec": {
   "display_name": "Python 3",
   "language": "python",
   "name": "python3"
  },
  "language_info": {
   "codemirror_mode": {
    "name": "ipython",
    "version": 3
   },
   "file_extension": ".py",
   "mimetype": "text/x-python",
   "name": "python",
   "nbconvert_exporter": "python",
   "pygments_lexer": "ipython3",
   "version": "3.10.0"
  },
  "orig_nbformat": 4
 },
 "nbformat": 4,
 "nbformat_minor": 2
}
