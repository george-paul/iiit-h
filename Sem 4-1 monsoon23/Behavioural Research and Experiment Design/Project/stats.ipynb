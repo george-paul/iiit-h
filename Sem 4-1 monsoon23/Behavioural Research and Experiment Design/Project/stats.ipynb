{
 "cells": [
  {
   "cell_type": "code",
   "execution_count": 33,
   "metadata": {},
   "outputs": [
    {
     "name": "stdout",
     "output_type": "stream",
     "text": [
      "linebisection errorCount Mean: 0.35135135135135137\n",
      "linebisection errorCount SD: 0.47739247926096473\n",
      "verballearning Means: \n",
      "t1 mean: 5.1891891891891895 \n",
      "t2 mean: 7.513513513513513 \n",
      "t3 mean: 7.72972972972973\n",
      "verballearning SDs: \n",
      "t1 SD: 2.469684713850955 \n",
      "t2 SD: 1.4069637929535534 \n",
      "t3 SD: 1.0305770791858175\n"
     ]
    }
   ],
   "source": [
    "import json\n",
    "import numpy as np\n",
    "\n",
    "# Load data from JSON file\n",
    "with open('data2.json', 'r') as file:\n",
    "    data = json.load(file)\n",
    "\n",
    "# Extract scores from JSON\n",
    "lb_scores = []\n",
    "t1_scores = []\n",
    "t2_scores = []\n",
    "t3_scores = []\n",
    "\n",
    "for user_id, user_data in data[\"scores\"].items():\n",
    "    # Linebisection scores\n",
    "    linebisection_scores = user_data[\"linebisection\"][\"0\"][\"errorCount\"]\n",
    "    lb_scores.append(linebisection_scores)\n",
    "\n",
    "    # Verballearning scores\n",
    "    t1_scores.append(user_data[\"verballearning\"][\"0\"][\"t1\"])\n",
    "    t2_scores.append(user_data[\"verballearning\"][\"0\"][\"t2\"])\n",
    "    t3_scores.append(user_data[\"verballearning\"][\"0\"][\"t3\"])\n",
    "\n",
    "# Calculate mean and standard deviation\n",
    "lb_mean = np.mean(lb_scores)\n",
    "lb_std = np.std(lb_scores)\n",
    "\n",
    "t1_mean = np.mean(t1_scores)\n",
    "t1_std = np.std(t1_scores)\n",
    "t2_mean = np.mean(t2_scores)\n",
    "t2_std = np.std(t2_scores)\n",
    "t3_mean = np.mean(t3_scores)\n",
    "t3_std = np.std(t3_scores)\n",
    "\n",
    "# Print the results\n",
    "print(\"linebisection errorCount Mean:\", lb_mean)\n",
    "print(\"linebisection errorCount SD:\", lb_std)\n",
    "print(\"verballearning Means:\", \"\\nt1 mean:\", t1_mean, \"\\nt2 mean:\", t2_mean, \"\\nt3 mean:\", t3_mean)\n",
    "print(\"verballearning SDs:\", \"\\nt1 SD:\", t1_std, \"\\nt2 SD:\", t2_std, \"\\nt3 SD:\", t3_std)\n"
   ]
  },
  {
   "cell_type": "code",
   "execution_count": 36,
   "metadata": {},
   "outputs": [],
   "source": [
    "import matplotlib.pyplot as plt\n"
   ]
  },
  {
   "cell_type": "code",
   "execution_count": 37,
   "metadata": {},
   "outputs": [
    {
     "data": {
      "image/png": "[encoded data removed]",
      "text/plain": [
       "<Figure size 720x576 with 2 Axes>"
      ]
     },
     "metadata": {
      "needs_background": "light"
     },
     "output_type": "display_data"
    }
   ],
   "source": [
    "# Marked values\n",
    "t1_mark = 5.08\n",
    "t2_mark = 6.48\n",
    "t3_mark = 7.4\n",
    "lb_mark = 0.11\n",
    "\n",
    "# Create a box plot\n",
    "fig, axs = plt.subplots(2, 1, figsize=(10, 8))\n",
    "\n",
    "# Box plot for linebisection scores\n",
    "axs[0].boxplot(lb_scores, vert=False, widths=0.7)\n",
    "axs[0].scatter(lb_mark, 1, color='red', marker='o', label='Marked Value')\n",
    "axs[0].set_title('Linebisection Scores')\n",
    "axs[0].set_xlim([0, 17])  # Set x-axis limits\n",
    "\n",
    "# Box plot for verballearning scores\n",
    "verballearning_data = [t1_scores, t2_scores, t3_scores]\n",
    "axs[1].boxplot(verballearning_data, vert=False, widths=0.7, labels=['t1', 't2', 't3'])\n",
    "axs[1].scatter([t1_mark, t2_mark, t3_mark], [1, 2, 3], color='red', marker='o', label='Marked Values')\n",
    "axs[1].set_title('Verballearning Scores')\n",
    "\n",
    "# Show the plot\n",
    "plt.tight_layout()\n",
    "plt.show()"
   ]
  },
  {
   "cell_type": "code",
   "execution_count": 40,
   "metadata": {},
   "outputs": [
    {
     "ename": "ModuleNotFoundError",
     "evalue": "No module named 'pingouin'",
     "output_type": "error",
     "traceback": [
      "\u001b[1;31m---------------------------------------------------------------------------\u001b[0m",
      "\u001b[1;31mModuleNotFoundError\u001b[0m                       Traceback (most recent call last)",
      "\u001b[1;32mc:\\SSDFiles\\GitStuff\\iiith\\Sem 4-1 monsoon23\\Behavioural Research and Experiment Design\\Project\\stats.ipynb Cell 4\u001b[0m in \u001b[0;36m<cell line: 1>\u001b[1;34m()\u001b[0m\n\u001b[1;32m----> <a href='vscode-notebook-cell:/c%3A/SSDFiles/GitStuff/iiith/Sem%204-1%20monsoon23/Behavioural%20Research%20and%20Experiment%20Design/Project/stats.ipynb#W5sZmlsZQ%3D%3D?line=0'>1</a>\u001b[0m \u001b[39mimport\u001b[39;00m \u001b[39mpingouin\u001b[39;00m \u001b[39mas\u001b[39;00m \u001b[39mpg\u001b[39;00m\n",
      "\u001b[1;31mModuleNotFoundError\u001b[0m: No module named 'pingouin'"
     ]
    }
   ],
   "source": [
    "import pingouin as pg"
   ]
  },
  {
   "cell_type": "code",
   "execution_count": null,
   "metadata": {},
   "outputs": [],
   "source": [
    "# Reliability measures for verbal learning test (Cronbach's alpha)\n",
    "verballearning_data = np.array([t1_scores, t2_scores, t3_scores]).T  # Transpose for correct format\n",
    "cronbach_alpha = pg.cronbach_alpha(verballearning_data)\n",
    "\n",
    "# Print the results\n",
    "print(\"Cronbach's alpha for Verbal Learning Test:\", cronbach_alpha)"
   ]
  },
  {
   "cell_type": "code",
   "execution_count": 34,
   "metadata": {},
   "outputs": [
    {
     "name": "stdout",
     "output_type": "stream",
     "text": [
      "IQR: 1.00\n",
      "Q1: 7.00\n",
      "Q3: 8.00\n",
      "LOB: 5.50\n",
      "UOB: 9.50\n"
     ]
    }
   ],
   "source": [
    "def getOutliers(data_list):\n",
    "\tq1 = np.percentile(data_list, 25)\n",
    "\tq3 = np.percentile(data_list, 75)\n",
    "\tiqr = q3 - q1\n",
    "\t# lower outlier boundary\n",
    "\tlob = q1 - 1.5*iqr\n",
    "\t# upper outlier boundary\n",
    "\tuob = q3 + 1.5*iqr\n",
    "\n",
    "\tprint(f\"IQR: {iqr:.2f}\")\n",
    "\tprint(f\"Q1: {q1:.2f}\")\n",
    "\tprint(f\"Q3: {q3:.2f}\")\n",
    "\tprint(f\"LOB: {lob:.2f}\")\n",
    "\tprint(f\"UOB: {uob:.2f}\")"
   ]
  }
 ],
 "metadata": {
  "kernelspec": {
   "display_name": "Python 3",
   "language": "python",
   "name": "python3"
  },
  "language_info": {
   "codemirror_mode": {
    "name": "ipython",
    "version": 3
   },
   "file_extension": ".py",
   "mimetype": "text/x-python",
   "name": "python",
   "nbconvert_exporter": "python",
   "pygments_lexer": "ipython3",
   "version": "3.10.0"
  },
  "orig_nbformat": 4
 },
 "nbformat": 4,
 "nbformat_minor": 2
}
