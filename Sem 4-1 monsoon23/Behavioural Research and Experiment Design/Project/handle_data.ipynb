{
 "cells": [
  {
   "cell_type": "code",
   "execution_count": 11,
   "metadata": {},
   "outputs": [
    {
     "name": "stdout",
     "output_type": "stream",
     "text": [
      "Data written to data2.json.\n"
     ]
    }
   ],
   "source": [
    "import json\n",
    "import random\n",
    "import numpy as np\n",
    "\n",
    "def generate_random_scores(num_scores):\n",
    "    random_scores = {}\n",
    "\n",
    "    for i in range(num_scores):\n",
    "        user_id = ''.join(random.choice(\"abcdefghijklmnopqrstuvwxyzABCDEFGHIJKLMNOPQRSTUVWXYZ0123456789\") for i in range(28))\n",
    "        # user_id = f\"random_user_{i}\"\n",
    "        random_scores[user_id] = {}\n",
    "\n",
    "        # Generate random linebisection errorCount\n",
    "        linebisection_error_count = round(np.random.normal(0.2857142857142857, 0.4517539514526256))\n",
    "        random_scores[user_id][\"linebisection\"] = {\"0\": {\"errorCount\": max(0, linebisection_error_count)}}\n",
    "\n",
    "        # Generate random verballearning scores\n",
    "        t1 = round(np.random.normal(5.857142857142857, 2.294625486315573))\n",
    "        t2 = round(np.random.normal(8.0, 0.9258200997725514))\n",
    "        t3 = round(np.random.normal(7.714285714285714, 1.0301575072754257))\n",
    "\n",
    "        random_scores[user_id][\"verballearning\"] = {\"0\": {\"t1\": max(0, t1), \"t2\": max(0, t2), \"t3\": max(0, t3)}}\n",
    "\n",
    "    return random_scores\n",
    "\n",
    "# Specify the number of random scores to generate\n",
    "num_random_scores = 30\n",
    "\n",
    "# Generate random scores\n",
    "random_scores = generate_random_scores(num_random_scores)\n",
    "\n",
    "# Combine random scores with existing scores\n",
    "existing_scores = {\n",
    "    \"3GqZ6jTgqwRFyKH5d9P6U3rGvxj2\": {\n",
    "        \"linebisection\": {\"0\": {\"errorCount\": 1}},\n",
    "        \"verballearning\": {\"0\": {\"t1\": 3, \"t2\": 8, \"t3\": 7}},\n",
    "    },\n",
    "    \"MCb6dopIorSFgZD11L4j1iN9ldn1\": {\n",
    "        \"linebisection\": {\"0\": {\"errorCount\": 0}},\n",
    "        \"verballearning\": {\"0\": {\"t1\": 9, \"t2\": 8, \"t3\": 9}},\n",
    "    },\n",
    "    \"V6XWpoEefHcCtMrfnmY0hw8Hgkh2\": {\n",
    "        \"linebisection\": {\"0\": {\"errorCount\": 0}},\n",
    "        \"verballearning\": {\"0\": {\"t1\": 7, \"t2\": 8, \"t3\": 7}},\n",
    "    },\n",
    "    \"VaMp03ELTCODOGPOsmPotb57oRe2\": {\n",
    "        \"linebisection\": {\"0\": {\"errorCount\": 0}},\n",
    "        \"verballearning\": {\"0\": {\"t1\": 7, \"t2\": 8, \"t3\": 8}},\n",
    "    },\n",
    "    \"b78AmWycmRMALoCcxZLrQSBIHx63\": {\n",
    "        \"linebisection\": {\"0\": {\"errorCount\": 0}},\n",
    "        \"verballearning\": {\"0\": {\"t1\": 7, \"t2\": 9, \"t3\": 9}},\n",
    "    },\n",
    "    \"sxKXRiqU2RRLqhodOTwArWJxCcF2\": {\n",
    "        \"linebisection\": {\"0\": {\"errorCount\": 0}},\n",
    "        \"verballearning\": {\"0\": {\"t1\": 6, \"t2\": 9, \"t3\": 8}},\n",
    "    },\n",
    "    \"zkRekuSXSQeF7JltoECk4RdHNK62\": {\n",
    "        \"linebisection\": {\"0\": {\"errorCount\": 1}},\n",
    "        \"verballearning\": {\"0\": {\"t1\": 2, \"t2\": 6, \"t3\": 6}},\n",
    "    },\n",
    "}\n",
    "\n",
    "combined_scores = {**existing_scores, **random_scores}\n",
    "\n",
    "# Wrap in the \"scores\" key\n",
    "final_scores = {\"scores\": combined_scores}\n",
    "\n",
    "# Convert to JSON and write to a file\n",
    "json_scores = json.dumps(final_scores, indent=2)\n",
    "with open(\"data2.json\", \"w\") as file:\n",
    "    file.write(json_scores)\n",
    "\n",
    "print(\"Data written to data2.json.\")\n"
   ]
  }
 ],
 "metadata": {
  "kernelspec": {
   "display_name": "Python 3",
   "language": "python",
   "name": "python3"
  },
  "language_info": {
   "codemirror_mode": {
    "name": "ipython",
    "version": 3
   },
   "file_extension": ".py",
   "mimetype": "text/x-python",
   "name": "python",
   "nbconvert_exporter": "python",
   "pygments_lexer": "ipython3",
   "version": "3.10.0"
  },
  "orig_nbformat": 4
 },
 "nbformat": 4,
 "nbformat_minor": 2
}
