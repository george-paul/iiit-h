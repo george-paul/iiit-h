{
 "cells": [
  {
   "cell_type": "code",
   "execution_count": 1,
   "metadata": {},
   "outputs": [],
   "source": [
    "import csv\n",
    "import statistics\n",
    "from collections import Counter"
   ]
  },
  {
   "cell_type": "code",
   "execution_count": 2,
   "metadata": {},
   "outputs": [],
   "source": [
    "csv_file_path = './winequality-red.csv'\n",
    "column_name = \"sulphates\"\n",
    "\n",
    "data = []\n",
    "\n",
    "with open(csv_file_path, 'r') as csvfile:\n",
    "    reader = csv.DictReader(csvfile)\n",
    "    for row in reader:\n",
    "        data.append(float(row[column_name]))"
   ]
  },
  {
   "attachments": {},
   "cell_type": "markdown",
   "metadata": {},
   "source": [
    "# Before Outlier Removal"
   ]
  },
  {
   "attachments": {},
   "cell_type": "markdown",
   "metadata": {},
   "source": [
    "### Mean, median, mode and standard deviation of the data"
   ]
  },
  {
   "cell_type": "code",
   "execution_count": 3,
   "metadata": {},
   "outputs": [
    {
     "name": "stdout",
     "output_type": "stream",
     "text": [
      "Mean: 0.6581488430268918\n",
      "Median: 0.62\n",
      "Mode: 0.6 appears 69 times\n",
      "Standard Deviation: 0.16950697959010996\n"
     ]
    }
   ],
   "source": [
    "mean = statistics.mean(data)\n",
    "\n",
    "median = statistics.median(data)\n",
    "\n",
    "data_counter = Counter(data)\n",
    "mode_tuple = Counter(data).most_common(1)[0]\n",
    "mode = mode_tuple[0]\n",
    "\n",
    "std_deviation = statistics.stdev(data)\n",
    "\n",
    "print(f\"Mean: {mean}\")\n",
    "print(f\"Median: {median}\")\n",
    "print(f\"Mode: {mode_tuple[0]} appears {mode_tuple[1]} times\")\n",
    "print(f\"Standard Deviation: {std_deviation}\")"
   ]
  },
  {
   "cell_type": "code",
   "execution_count": 4,
   "metadata": {},
   "outputs": [
    {
     "data": {
      "text/plain": [
       "<matplotlib.legend.Legend at 0x2d99695ac80>"
      ]
     },
     "execution_count": 4,
     "metadata": {},
     "output_type": "execute_result"
    },
    {
     "data": {
      "image/png": "[encoded data removed]",
      "text/plain": [
       "<Figure size 432x288 with 1 Axes>"
      ]
     },
     "metadata": {
      "needs_background": "light"
     },
     "output_type": "display_data"
    }
   ],
   "source": [
    "import matplotlib.pyplot as plt\n",
    "\n",
    "plt.hist(data, bins=20, color='blue', alpha=0.7, rwidth=0.9)\n",
    "plt.title('Histogram of ' + column_name)\n",
    "plt.xlabel(column_name)\n",
    "plt.ylabel('Frequency')\n",
    "plt.axvline(mean, color='red', linestyle='dashed', linewidth=2, label=f'Mean ({mean:.2f})')\n",
    "plt.axvline(median, color='green', linestyle='dashed', linewidth=2, label=f'Median ({median:.2f})')\n",
    "plt.axvline(mode, color='purple', linestyle='dashed', linewidth=2, label=f'Mode ({mode:.2f})')\n",
    "plt.legend()"
   ]
  },
  {
   "attachments": {},
   "cell_type": "markdown",
   "metadata": {},
   "source": [
    "# Outlier Detection and removal"
   ]
  },
  {
   "cell_type": "code",
   "execution_count": 5,
   "metadata": {},
   "outputs": [
    {
     "name": "stdout",
     "output_type": "stream",
     "text": [
      "IQR: 0.18\n",
      "Q1: 0.55\n",
      "Q3: 0.73\n",
      "LOB: 0.28\n",
      "UOB: 1.00\n"
     ]
    }
   ],
   "source": [
    "import numpy as np\n",
    "\n",
    "q1 = np.percentile(data, 25)\n",
    "q3 = np.percentile(data, 75)\n",
    "iqr = q3 - q1\n",
    "# lower outlier boundary\n",
    "lob = q1 - 1.5*iqr\n",
    "# upper outlier boundary\n",
    "uob = q3 + 1.5*iqr\n",
    "\n",
    "print(f\"IQR: {iqr:.2f}\")\n",
    "print(f\"Q1: {q1:.2f}\")\n",
    "print(f\"Q3: {q3:.2f}\")\n",
    "print(f\"LOB: {lob:.2f}\")\n",
    "print(f\"UOB: {uob:.2f}\")\n"
   ]
  },
  {
   "cell_type": "code",
   "execution_count": 6,
   "metadata": {},
   "outputs": [],
   "source": [
    "from copy import deepcopy\n",
    "\n",
    "\n",
    "old_data = deepcopy(data)\n",
    "\n",
    "# conduct outlier removal on data\n",
    "data = []\n",
    "for item in old_data:\n",
    "\tif item > lob and item < uob:\n",
    "\t\tdata.append(item)"
   ]
  },
  {
   "attachments": {},
   "cell_type": "markdown",
   "metadata": {},
   "source": [
    "# New Statistics"
   ]
  },
  {
   "cell_type": "code",
   "execution_count": 7,
   "metadata": {},
   "outputs": [
    {
     "name": "stdout",
     "output_type": "stream",
     "text": [
      "Mean: 0.6364155844155844\n",
      "Median: 0.62\n",
      "Mode: 0.6 appears 69 times\n",
      "Standard Deviation: 0.12096325011806446\n"
     ]
    }
   ],
   "source": [
    "mean = statistics.mean(data)\n",
    "\n",
    "median = statistics.median(data)\n",
    "\n",
    "data_counter = Counter(data)\n",
    "mode_tuple = Counter(data).most_common(1)[0]\n",
    "mode = mode_tuple[0]\n",
    "\n",
    "std_deviation = statistics.stdev(data)\n",
    "\n",
    "print(f\"Mean: {mean}\")\n",
    "print(f\"Median: {median}\")\n",
    "print(f\"Mode: {mode_tuple[0]} appears {mode_tuple[1]} times\")\n",
    "print(f\"Standard Deviation: {std_deviation}\")"
   ]
  },
  {
   "cell_type": "code",
   "execution_count": 8,
   "metadata": {},
   "outputs": [
    {
     "data": {
      "text/plain": [
       "<matplotlib.legend.Legend at 0x2d998aa3e50>"
      ]
     },
     "execution_count": 8,
     "metadata": {},
     "output_type": "execute_result"
    },
    {
     "data": {
      "image/png": "[encoded data removed]",
      "text/plain": [
       "<Figure size 432x288 with 1 Axes>"
      ]
     },
     "metadata": {
      "needs_background": "light"
     },
     "output_type": "display_data"
    }
   ],
   "source": [
    "plt.hist(data, bins=20, color='blue', alpha=0.7, rwidth=0.9)\n",
    "plt.title('Histogram of ' + column_name)\n",
    "plt.xlabel(column_name)\n",
    "plt.ylabel('Frequency')\n",
    "plt.axvline(mean, color='red', linestyle='dashed', linewidth=2, label=f'Mean ({mean:.2f})')\n",
    "plt.axvline(median, color='green', linestyle='dashed', linewidth=2, label=f'Median ({median:.2f})')\n",
    "plt.axvline(mode, color='purple', linestyle='dashed', linewidth=2, label=f'Mode ({mode:.2f})')\n",
    "plt.legend()"
   ]
  }
 ],
 "metadata": {
  "kernelspec": {
   "display_name": "Python 3",
   "language": "python",
   "name": "python3"
  },
  "language_info": {
   "codemirror_mode": {
    "name": "ipython",
    "version": 3
   },
   "file_extension": ".py",
   "mimetype": "text/x-python",
   "name": "python",
   "nbconvert_exporter": "python",
   "pygments_lexer": "ipython3",
   "version": "3.10.0"
  },
  "orig_nbformat": 4
 },
 "nbformat": 4,
 "nbformat_minor": 2
}
