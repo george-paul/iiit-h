{
  "nbformat": 4,
  "nbformat_minor": 0,
  "metadata": {
    "colab": {
      "name": "code.ipynb",
      "provenance": [],
      "collapsed_sections": []
    },
    "kernelspec": {
      "name": "python3",
      "display_name": "Python 3"
    },
    "language_info": {
      "name": "python"
    }
  },
  "cells": [
    {
      "cell_type": "code",
      "execution_count": null,
      "metadata": {
        "id": "enuEE2SBRb8Z"
      },
      "outputs": [],
      "source": [
        "import numpy as np\n",
        "import pandas as pd\n",
        "from sklearn.model_selection import train_test_split\n",
        "from sklearn.linear_model import LinearRegression\n",
        "from sklearn.preprocessing import PolynomialFeatures\n",
        "import seaborn as sns\n",
        "import matplotlib.pyplot as plt "
      ]
    },
    {
      "cell_type": "markdown",
      "source": [
        "Importing the data into a memory"
      ],
      "metadata": {
        "id": "kR2v0oyHiEJM"
      }
    },
    {
      "cell_type": "code",
      "source": [
        "df = pd.read_pickle(\"/content/train.pkl\")\n",
        "\n",
        "df_test = pd.read_pickle(\"/content/test.pkl\")\n",
        "#len(df)"
      ],
      "metadata": {
        "id": "FSOiEytJTZU4"
      },
      "execution_count": 200,
      "outputs": []
    },
    {
      "cell_type": "markdown",
      "source": [
        "Splitting the dataset into 16 randomly assigned equal datasets(no overlap) - using `train_test_split` into increasingly smaller splits"
      ],
      "metadata": {
        "id": "VDXA5xKEiUQ4"
      }
    },
    {
      "cell_type": "code",
      "source": [
        "x_test = df_test[:,0]\n",
        "x_test = x_test.reshape(-1,1)\n",
        "y_test = df_test[:,1]\n",
        "\n",
        "x_train_list = []\n",
        "y_train_list = []\n",
        "\n",
        "x_train = df[:,0]\n",
        "y_train = df[:,1]\n",
        "\n",
        "for i in range(0,15):\n",
        "  x_train, x_temp, y_train, y_temp = train_test_split(x_train, y_train, test_size=(1/(16-i)), random_state=7)\n",
        "  x_train_list.append(x_temp.reshape(-1,1))\n",
        "  y_train_list.append(y_temp)\n",
        "  #print(x_train[0:5])\n",
        "  #print(y_train[0:5])\n",
        "\n",
        "x_train_list.append(x_train.reshape(-1,1))\n",
        "y_train_list.append(y_train)\n",
        "\n"
      ],
      "metadata": {
        "id": "SgIokAtOVB8x"
      },
      "execution_count": 172,
      "outputs": []
    },
    {
      "cell_type": "markdown",
      "source": [
        "\n",
        "# Task 2: Calculating the variance and bias\n",
        "\n",
        "Here we iterate through each of the models and train through the 16 datasets we had.\n",
        "\n",
        "Then we test on the designated test set and proceed to calculate variance and bias values from the result.\n",
        "\n",
        "The MSE is also calculated here for Irreducible error next section."
      ],
      "metadata": {
        "id": "dTwLQNlrivYN"
      }
    },
    {
      "cell_type": "code",
      "source": [
        "bias2_list = []\n",
        "var_list = []\n",
        "mse_list = []\n",
        "\n",
        "for j in range(0,15):\n",
        "\n",
        "  polynomial_features= PolynomialFeatures(degree=j+1)\n",
        "  bias2_inner = []\n",
        "  var_inner = []\n",
        "  mse_inner = []\n",
        "  for i in range(0,16):\n",
        "    \n",
        "    x_poly_train = polynomial_features.fit_transform(x_train_list[i])\n",
        "    x_poly_test = polynomial_features.transform(x_test)\n",
        "    \n",
        "    \n",
        "    linreg = LinearRegression().fit(x_poly_train, y_train_list[i])\n",
        "    #print(linreg.score(x_poly_test, y_test))\n",
        "    pred = linreg.predict(x_poly_test)\n",
        "    \n",
        "    f_cap_mean = np.mean(pred)\n",
        "    bias = np.array((y_test - f_cap_mean))\n",
        "    bias = np.mean(bias**2)\n",
        "    bias2_inner.append(bias)\n",
        "\n",
        "    var = np.array((pred - f_cap_mean))\n",
        "    var = np.mean(var**2)\n",
        "    var_inner.append(var)\n",
        "\n",
        "    mse = np.array(y_test) - np.array(pred)\n",
        "    mse = np.mean(mse**2)\n",
        "    mse_inner.append(mse)\n",
        "\n",
        "\n",
        "\n",
        "\n",
        "  bias2_list.append(np.mean(bias2_inner))\n",
        "  var_list.append(np.mean(var_inner))\n",
        "  mse_list.append(np.mean(mse_inner))\n",
        "  \n",
        "  #print(bias,\" dash mone \", var)\n",
        "\n",
        "\n"
      ],
      "metadata": {
        "id": "rGwJIUhIjPHT"
      },
      "execution_count": 195,
      "outputs": []
    },
    {
      "cell_type": "markdown",
      "source": [
        "# Task 3\n",
        "\n",
        "Irreducible error is calculated as per the formula $\\sigma^2 = MSE - ( Bias^2 + Variance)$"
      ],
      "metadata": {
        "id": "q3ElUVxVjYFH"
      }
    },
    {
      "cell_type": "code",
      "source": [
        "irreducible_error = np.array(mse_list) - (np.array(bias2_list) + np.array(var_list))\n",
        "irreducible_error"
      ],
      "metadata": {
        "colab": {
          "base_uri": "https://localhost:8080/"
        },
        "id": "3Pqz93p2Vs7d",
        "outputId": "fa0bdb8b-0dff-4dcd-d133-5ddd8eb4e88e"
      },
      "execution_count": 196,
      "outputs": [
        {
          "output_type": "execute_result",
          "data": {
            "text/plain": [
              "array([-5111637.11385676, -5182452.02684902, -6656312.4174523 ,\n",
              "       -6631979.01927404, -6634857.46894531, -6643050.10648622,\n",
              "       -6620064.77005699, -6626902.5764471 , -6625822.14065683,\n",
              "       -6619129.47293834, -6621069.41300534, -6580711.9884353 ,\n",
              "       -6574471.58640661, -6508740.68585163, -6569068.58378419])"
            ]
          },
          "metadata": {},
          "execution_count": 196
        }
      ]
    },
    {
      "cell_type": "markdown",
      "source": [
        "Stored in a dataframe for easier visualisation"
      ],
      "metadata": {
        "id": "7QOZ3kvyjx1m"
      }
    },
    {
      "cell_type": "code",
      "source": [
        "degree = np.array(range(1,16))\n",
        "degree\n",
        "\n",
        "data = { 'Degree' : degree,\n",
        "          'Bias' : bias2_list,\n",
        "          'Variance' : var_list,\n",
        "          'MSE' : mse_list,\n",
        "          'Irreducible_Error' : irreducible_error\n",
        "        }\n",
        "\n",
        "details = pd.DataFrame(data = data)\n",
        "\n",
        "details"
      ],
      "metadata": {
        "colab": {
          "base_uri": "https://localhost:8080/",
          "height": 520
        },
        "id": "lDAtb9RBT0-e",
        "outputId": "fe4ede8b-82d9-428b-f2d0-987b510e3842"
      },
      "execution_count": 201,
      "outputs": [
        {
          "output_type": "execute_result",
          "data": {
            "text/html": [
              "\n",
              "  <div id=\"df-20d5605f-782e-4a50-bb33-83fe2a591f8f\">\n",
              "    <div class=\"colab-df-container\">\n",
              "      <div>\n",
              "<style scoped>\n",
              "    .dataframe tbody tr th:only-of-type {\n",
              "        vertical-align: middle;\n",
              "    }\n",
              "\n",
              "    .dataframe tbody tr th {\n",
              "        vertical-align: top;\n",
              "    }\n",
              "\n",
              "    .dataframe thead th {\n",
              "        text-align: right;\n",
              "    }\n",
              "</style>\n",
              "<table border=\"1\" class=\"dataframe\">\n",
              "  <thead>\n",
              "    <tr style=\"text-align: right;\">\n",
              "      <th></th>\n",
              "      <th>Degree</th>\n",
              "      <th>Bias</th>\n",
              "      <th>Variance</th>\n",
              "      <th>MSE</th>\n",
              "      <th>Irreducible_Error</th>\n",
              "    </tr>\n",
              "  </thead>\n",
              "  <tbody>\n",
              "    <tr>\n",
              "      <th>0</th>\n",
              "      <td>1</td>\n",
              "      <td>3.277119e+06</td>\n",
              "      <td>2.348615e+06</td>\n",
              "      <td>514097.124410</td>\n",
              "      <td>-5.111637e+06</td>\n",
              "    </tr>\n",
              "    <tr>\n",
              "      <th>1</th>\n",
              "      <td>2</td>\n",
              "      <td>3.276735e+06</td>\n",
              "      <td>2.414815e+06</td>\n",
              "      <td>509097.035409</td>\n",
              "      <td>-5.182452e+06</td>\n",
              "    </tr>\n",
              "    <tr>\n",
              "      <th>2</th>\n",
              "      <td>3</td>\n",
              "      <td>3.252960e+06</td>\n",
              "      <td>3.474084e+06</td>\n",
              "      <td>70731.777622</td>\n",
              "      <td>-6.656312e+06</td>\n",
              "    </tr>\n",
              "    <tr>\n",
              "      <th>3</th>\n",
              "      <td>4</td>\n",
              "      <td>3.256567e+06</td>\n",
              "      <td>3.470359e+06</td>\n",
              "      <td>94947.234827</td>\n",
              "      <td>-6.631979e+06</td>\n",
              "    </tr>\n",
              "    <tr>\n",
              "      <th>4</th>\n",
              "      <td>5</td>\n",
              "      <td>3.255565e+06</td>\n",
              "      <td>3.485755e+06</td>\n",
              "      <td>106462.621166</td>\n",
              "      <td>-6.634857e+06</td>\n",
              "    </tr>\n",
              "    <tr>\n",
              "      <th>5</th>\n",
              "      <td>6</td>\n",
              "      <td>3.255822e+06</td>\n",
              "      <td>3.504672e+06</td>\n",
              "      <td>117443.670912</td>\n",
              "      <td>-6.643050e+06</td>\n",
              "    </tr>\n",
              "    <tr>\n",
              "      <th>6</th>\n",
              "      <td>7</td>\n",
              "      <td>3.255412e+06</td>\n",
              "      <td>3.502291e+06</td>\n",
              "      <td>137638.082151</td>\n",
              "      <td>-6.620065e+06</td>\n",
              "    </tr>\n",
              "    <tr>\n",
              "      <th>7</th>\n",
              "      <td>8</td>\n",
              "      <td>3.254692e+06</td>\n",
              "      <td>3.531652e+06</td>\n",
              "      <td>159442.000623</td>\n",
              "      <td>-6.626903e+06</td>\n",
              "    </tr>\n",
              "    <tr>\n",
              "      <th>8</th>\n",
              "      <td>9</td>\n",
              "      <td>3.255509e+06</td>\n",
              "      <td>3.571388e+06</td>\n",
              "      <td>201075.268821</td>\n",
              "      <td>-6.625822e+06</td>\n",
              "    </tr>\n",
              "    <tr>\n",
              "      <th>9</th>\n",
              "      <td>10</td>\n",
              "      <td>3.255630e+06</td>\n",
              "      <td>3.587098e+06</td>\n",
              "      <td>223598.437256</td>\n",
              "      <td>-6.619129e+06</td>\n",
              "    </tr>\n",
              "    <tr>\n",
              "      <th>10</th>\n",
              "      <td>11</td>\n",
              "      <td>3.255878e+06</td>\n",
              "      <td>3.594914e+06</td>\n",
              "      <td>229723.100738</td>\n",
              "      <td>-6.621069e+06</td>\n",
              "    </tr>\n",
              "    <tr>\n",
              "      <th>11</th>\n",
              "      <td>12</td>\n",
              "      <td>3.255618e+06</td>\n",
              "      <td>3.583122e+06</td>\n",
              "      <td>258027.975122</td>\n",
              "      <td>-6.580712e+06</td>\n",
              "    </tr>\n",
              "    <tr>\n",
              "      <th>12</th>\n",
              "      <td>13</td>\n",
              "      <td>3.255515e+06</td>\n",
              "      <td>3.578420e+06</td>\n",
              "      <td>259463.756701</td>\n",
              "      <td>-6.574472e+06</td>\n",
              "    </tr>\n",
              "    <tr>\n",
              "      <th>13</th>\n",
              "      <td>14</td>\n",
              "      <td>3.255684e+06</td>\n",
              "      <td>3.532711e+06</td>\n",
              "      <td>279654.884721</td>\n",
              "      <td>-6.508741e+06</td>\n",
              "    </tr>\n",
              "    <tr>\n",
              "      <th>14</th>\n",
              "      <td>15</td>\n",
              "      <td>3.256274e+06</td>\n",
              "      <td>3.593987e+06</td>\n",
              "      <td>281192.371228</td>\n",
              "      <td>-6.569069e+06</td>\n",
              "    </tr>\n",
              "  </tbody>\n",
              "</table>\n",
              "</div>\n",
              "      <button class=\"colab-df-convert\" onclick=\"convertToInteractive('df-20d5605f-782e-4a50-bb33-83fe2a591f8f')\"\n",
              "              title=\"Convert this dataframe to an interactive table.\"\n",
              "              style=\"display:none;\">\n",
              "        \n",
              "  <svg xmlns=\"http://www.w3.org/2000/svg\" height=\"24px\"viewBox=\"0 0 24 24\"\n",
              "       width=\"24px\">\n",
              "    <path d=\"M0 0h24v24H0V0z\" fill=\"none\"/>\n",
              "    <path d=\"M18.56 5.44l.94 2.06.94-2.06 2.06-.94-2.06-.94-.94-2.06-.94 2.06-2.06.94zm-11 1L8.5 8.5l.94-2.06 2.06-.94-2.06-.94L8.5 2.5l-.94 2.06-2.06.94zm10 10l.94 2.06.94-2.06 2.06-.94-2.06-.94-.94-2.06-.94 2.06-2.06.94z\"/><path d=\"M17.41 7.96l-1.37-1.37c-.4-.4-.92-.59-1.43-.59-.52 0-1.04.2-1.43.59L10.3 9.45l-7.72 7.72c-.78.78-.78 2.05 0 2.83L4 21.41c.39.39.9.59 1.41.59.51 0 1.02-.2 1.41-.59l7.78-7.78 2.81-2.81c.8-.78.8-2.07 0-2.86zM5.41 20L4 18.59l7.72-7.72 1.47 1.35L5.41 20z\"/>\n",
              "  </svg>\n",
              "      </button>\n",
              "      \n",
              "  <style>\n",
              "    .colab-df-container {\n",
              "      display:flex;\n",
              "      flex-wrap:wrap;\n",
              "      gap: 12px;\n",
              "    }\n",
              "\n",
              "    .colab-df-convert {\n",
              "      background-color: #E8F0FE;\n",
              "      border: none;\n",
              "      border-radius: 50%;\n",
              "      cursor: pointer;\n",
              "      display: none;\n",
              "      fill: #1967D2;\n",
              "      height: 32px;\n",
              "      padding: 0 0 0 0;\n",
              "      width: 32px;\n",
              "    }\n",
              "\n",
              "    .colab-df-convert:hover {\n",
              "      background-color: #E2EBFA;\n",
              "      box-shadow: 0px 1px 2px rgba(60, 64, 67, 0.3), 0px 1px 3px 1px rgba(60, 64, 67, 0.15);\n",
              "      fill: #174EA6;\n",
              "    }\n",
              "\n",
              "    [theme=dark] .colab-df-convert {\n",
              "      background-color: #3B4455;\n",
              "      fill: #D2E3FC;\n",
              "    }\n",
              "\n",
              "    [theme=dark] .colab-df-convert:hover {\n",
              "      background-color: #434B5C;\n",
              "      box-shadow: 0px 1px 3px 1px rgba(0, 0, 0, 0.15);\n",
              "      filter: drop-shadow(0px 1px 2px rgba(0, 0, 0, 0.3));\n",
              "      fill: #FFFFFF;\n",
              "    }\n",
              "  </style>\n",
              "\n",
              "      <script>\n",
              "        const buttonEl =\n",
              "          document.querySelector('#df-20d5605f-782e-4a50-bb33-83fe2a591f8f button.colab-df-convert');\n",
              "        buttonEl.style.display =\n",
              "          google.colab.kernel.accessAllowed ? 'block' : 'none';\n",
              "\n",
              "        async function convertToInteractive(key) {\n",
              "          const element = document.querySelector('#df-20d5605f-782e-4a50-bb33-83fe2a591f8f');\n",
              "          const dataTable =\n",
              "            await google.colab.kernel.invokeFunction('convertToInteractive',\n",
              "                                                     [key], {});\n",
              "          if (!dataTable) return;\n",
              "\n",
              "          const docLinkHtml = 'Like what you see? Visit the ' +\n",
              "            '<a target=\"_blank\" href=https://colab.research.google.com/notebooks/data_table.ipynb>data table notebook</a>'\n",
              "            + ' to learn more about interactive tables.';\n",
              "          element.innerHTML = '';\n",
              "          dataTable['output_type'] = 'display_data';\n",
              "          await google.colab.output.renderOutput(dataTable, element);\n",
              "          const docLink = document.createElement('div');\n",
              "          docLink.innerHTML = docLinkHtml;\n",
              "          element.appendChild(docLink);\n",
              "        }\n",
              "      </script>\n",
              "    </div>\n",
              "  </div>\n",
              "  "
            ],
            "text/plain": [
              "    Degree          Bias      Variance            MSE  Irreducible_Error\n",
              "0        1  3.277119e+06  2.348615e+06  514097.124410      -5.111637e+06\n",
              "1        2  3.276735e+06  2.414815e+06  509097.035409      -5.182452e+06\n",
              "2        3  3.252960e+06  3.474084e+06   70731.777622      -6.656312e+06\n",
              "3        4  3.256567e+06  3.470359e+06   94947.234827      -6.631979e+06\n",
              "4        5  3.255565e+06  3.485755e+06  106462.621166      -6.634857e+06\n",
              "5        6  3.255822e+06  3.504672e+06  117443.670912      -6.643050e+06\n",
              "6        7  3.255412e+06  3.502291e+06  137638.082151      -6.620065e+06\n",
              "7        8  3.254692e+06  3.531652e+06  159442.000623      -6.626903e+06\n",
              "8        9  3.255509e+06  3.571388e+06  201075.268821      -6.625822e+06\n",
              "9       10  3.255630e+06  3.587098e+06  223598.437256      -6.619129e+06\n",
              "10      11  3.255878e+06  3.594914e+06  229723.100738      -6.621069e+06\n",
              "11      12  3.255618e+06  3.583122e+06  258027.975122      -6.580712e+06\n",
              "12      13  3.255515e+06  3.578420e+06  259463.756701      -6.574472e+06\n",
              "13      14  3.255684e+06  3.532711e+06  279654.884721      -6.508741e+06\n",
              "14      15  3.256274e+06  3.593987e+06  281192.371228      -6.569069e+06"
            ]
          },
          "metadata": {},
          "execution_count": 201
        }
      ]
    },
    {
      "cell_type": "code",
      "source": [
        "sns.relplot(data=details, x=\"Degree\", y=\"Bias\", kind=\"line\").set(title=\"Bias Plot\")\n"
      ],
      "metadata": {
        "colab": {
          "base_uri": "https://localhost:8080/",
          "height": 392
        },
        "id": "F9DzNdDK06sQ",
        "outputId": "bedea44d-5623-4805-b4c8-21cc77281668"
      },
      "execution_count": 198,
      "outputs": [
        {
          "output_type": "execute_result",
          "data": {
            "text/plain": [
              "<seaborn.axisgrid.FacetGrid at 0x7f5accd7ebd0>"
            ]
          },
          "metadata": {},
          "execution_count": 198
        },
        {
          "output_type": "display_data",
          "data": {
            "image/png": "[encoded data removed]",
            "text/plain": [
              "<Figure size 360x360 with 1 Axes>"
            ]
          },
          "metadata": {
            "needs_background": "light"
          }
        }
      ]
    },
    {
      "cell_type": "code",
      "source": [
        "sns.relplot(\n",
        "    data=details, x=\"Degree\", y=\"Variance\", kind=\"line\"\n",
        ").set(title=\"Variance Plot\")"
      ],
      "metadata": {
        "colab": {
          "base_uri": "https://localhost:8080/",
          "height": 392
        },
        "id": "KcvOsIfk-YCF",
        "outputId": "1956a066-40c8-4cef-c7a1-79a18911c41d"
      },
      "execution_count": 206,
      "outputs": [
        {
          "output_type": "execute_result",
          "data": {
            "text/plain": [
              "<seaborn.axisgrid.FacetGrid at 0x7f5acca65790>"
            ]
          },
          "metadata": {},
          "execution_count": 206
        },
        {
          "output_type": "display_data",
          "data": {
            "image/png": "[encoded data removed]",
            "text/plain": [
              "<Figure size 360x360 with 1 Axes>"
            ]
          },
          "metadata": {
            "needs_background": "light"
          }
        }
      ]
    },
    {
      "cell_type": "code",
      "source": [
        "sns.relplot(\n",
        "    data=details, x=\"Degree\", y=\"MSE\", kind=\"line\", \n",
        ").set(title=\"MSE Plot\")"
      ],
      "metadata": {
        "colab": {
          "base_uri": "https://localhost:8080/",
          "height": 403
        },
        "id": "U_A9c9fUTJ-R",
        "outputId": "a443dfc2-e2b8-446b-b08a-7abe2590159c"
      },
      "execution_count": 179,
      "outputs": [
        {
          "output_type": "execute_result",
          "data": {
            "text/plain": [
              "<seaborn.axisgrid.FacetGrid at 0x7f5acd029910>"
            ]
          },
          "metadata": {},
          "execution_count": 179
        },
        {
          "output_type": "display_data",
          "data": {
            "image/png": "[encoded data removed]",
            "text/plain": [
              "<Figure size 360x360 with 1 Axes>"
            ]
          },
          "metadata": {
            "needs_background": "light"
          }
        }
      ]
    },
    {
      "cell_type": "code",
      "source": [
        "sns.relplot(\n",
        "    data=details, x=\"Degree\", y=\"Irreducible_Error\", kind=\"line\", \n",
        ").set(title=\"Irreducible Error Plot\")"
      ],
      "metadata": {
        "id": "cv-1pV7N-vgP",
        "colab": {
          "base_uri": "https://localhost:8080/",
          "height": 392
        },
        "outputId": "70193c3b-b209-4894-bd75-ba483d19f3ac"
      },
      "execution_count": 180,
      "outputs": [
        {
          "output_type": "execute_result",
          "data": {
            "text/plain": [
              "<seaborn.axisgrid.FacetGrid at 0x7f5acd0f3310>"
            ]
          },
          "metadata": {},
          "execution_count": 180
        },
        {
          "output_type": "display_data",
          "data": {
            "image/png": "[encoded data removed]",
            "text/plain": [
              "<Figure size 360x360 with 1 Axes>"
            ]
          },
          "metadata": {
            "needs_background": "light"
          }
        }
      ]
    },
    {
      "cell_type": "markdown",
      "source": [
        "# Task 4: Plotting $Bias^2$-Variance graph\n",
        "\n",
        "The graph is plotted accordingly to the bias, variance and MSE values of the different models.\n",
        "\n"
      ],
      "metadata": {
        "id": "eFHbfL8Pj2D6"
      }
    },
    {
      "cell_type": "code",
      "source": [
        "data = { 'Degree' : degree,\n",
        "          'Bias^2' : bias2_list,\n",
        "          'Variance' : var_list,\n",
        "          'MSE' : mse_list,\n",
        "        }\n",
        "\n",
        "tradeoff = pd.DataFrame(data = data)"
      ],
      "metadata": {
        "id": "mj4ZAfxnf72u"
      },
      "execution_count": 208,
      "outputs": []
    },
    {
      "cell_type": "code",
      "source": [
        "sns.lineplot(x='Degree', y = 'value', hue='variable', data = pd.melt(tradeoff, ['Degree']))"
      ],
      "metadata": {
        "colab": {
          "base_uri": "https://localhost:8080/",
          "height": 308
        },
        "id": "VaWBPHpZeNqj",
        "outputId": "50136fb5-207c-4ac8-8ea7-a0353fb8b38e"
      },
      "execution_count": 204,
      "outputs": [
        {
          "output_type": "execute_result",
          "data": {
            "text/plain": [
              "<matplotlib.axes._subplots.AxesSubplot at 0x7f5accaedcd0>"
            ]
          },
          "metadata": {},
          "execution_count": 204
        },
        {
          "output_type": "display_data",
          "data": {
            "image/png": "[encoded data removed]",
            "text/plain": [
              "<Figure size 432x288 with 1 Axes>"
            ]
          },
          "metadata": {
            "needs_background": "light"
          }
        }
      ]
    }
  ]
}